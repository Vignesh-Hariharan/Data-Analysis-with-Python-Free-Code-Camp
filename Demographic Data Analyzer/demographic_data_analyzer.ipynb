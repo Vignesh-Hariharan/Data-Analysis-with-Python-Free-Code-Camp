{
 "cells": [
  {
   "cell_type": "markdown",
   "metadata": {},
   "source": [
    "# Demographic Data Analyzer"
   ]
  },
  {
   "cell_type": "markdown",
   "metadata": {},
   "source": [
    "### Steps\n",
    "1. Read data from file\n",
    "2. How many of each race are represented in this dataset? This should be a Pandas series with race names as the index labels.\n",
    "3. What is the average age of men?\n",
    "4. What is the percentage of people who have a Bachelor's degree?\n",
    "5. What percentage of people with advanced education (`Bachelors`, `Masters`, or `Doctorate`) make more than 50K?\n",
    "6. What percentage of people without advanced education make more than 50K (with and without `Bachelors`, `Masters`, or `Doctorate`\n",
    "percentage with salary >50K)\n",
    "7. What is the minimum number of hours a person works per week (hours-per-week feature)?\n",
    "8. What percentage of the people who work the minimum number of hours per week have a salary of >50K\n",
    "9. What country has the highest percentage of people that earn >50K?\n",
    "10. Identify the most popular occupation for those who earn >50K in India.\n"
   ]
  },
  {
   "cell_type": "code",
   "execution_count": 1,
   "metadata": {},
   "outputs": [],
   "source": [
    "import pandas as pd"
   ]
  },
  {
   "cell_type": "markdown",
   "metadata": {},
   "source": [
    "#### Read the file "
   ]
  },
  {
   "cell_type": "code",
   "execution_count": 2,
   "metadata": {},
   "outputs": [
    {
     "data": {
      "text/html": [
       "<div>\n",
       "<style scoped>\n",
       "    .dataframe tbody tr th:only-of-type {\n",
       "        vertical-align: middle;\n",
       "    }\n",
       "\n",
       "    .dataframe tbody tr th {\n",
       "        vertical-align: top;\n",
       "    }\n",
       "\n",
       "    .dataframe thead th {\n",
       "        text-align: right;\n",
       "    }\n",
       "</style>\n",
       "<table border=\"1\" class=\"dataframe\">\n",
       "  <thead>\n",
       "    <tr style=\"text-align: right;\">\n",
       "      <th></th>\n",
       "      <th>age</th>\n",
       "      <th>workclass</th>\n",
       "      <th>fnlwgt</th>\n",
       "      <th>education</th>\n",
       "      <th>education-num</th>\n",
       "      <th>marital-status</th>\n",
       "      <th>occupation</th>\n",
       "      <th>relationship</th>\n",
       "      <th>race</th>\n",
       "      <th>sex</th>\n",
       "      <th>capital-gain</th>\n",
       "      <th>capital-loss</th>\n",
       "      <th>hours-per-week</th>\n",
       "      <th>native-country</th>\n",
       "      <th>salary</th>\n",
       "    </tr>\n",
       "  </thead>\n",
       "  <tbody>\n",
       "    <tr>\n",
       "      <th>0</th>\n",
       "      <td>39</td>\n",
       "      <td>State-gov</td>\n",
       "      <td>77516</td>\n",
       "      <td>Bachelors</td>\n",
       "      <td>13</td>\n",
       "      <td>Never-married</td>\n",
       "      <td>Adm-clerical</td>\n",
       "      <td>Not-in-family</td>\n",
       "      <td>White</td>\n",
       "      <td>Male</td>\n",
       "      <td>2174</td>\n",
       "      <td>0</td>\n",
       "      <td>40</td>\n",
       "      <td>United-States</td>\n",
       "      <td>&lt;=50K</td>\n",
       "    </tr>\n",
       "    <tr>\n",
       "      <th>1</th>\n",
       "      <td>50</td>\n",
       "      <td>Self-emp-not-inc</td>\n",
       "      <td>83311</td>\n",
       "      <td>Bachelors</td>\n",
       "      <td>13</td>\n",
       "      <td>Married-civ-spouse</td>\n",
       "      <td>Exec-managerial</td>\n",
       "      <td>Husband</td>\n",
       "      <td>White</td>\n",
       "      <td>Male</td>\n",
       "      <td>0</td>\n",
       "      <td>0</td>\n",
       "      <td>13</td>\n",
       "      <td>United-States</td>\n",
       "      <td>&lt;=50K</td>\n",
       "    </tr>\n",
       "    <tr>\n",
       "      <th>2</th>\n",
       "      <td>38</td>\n",
       "      <td>Private</td>\n",
       "      <td>215646</td>\n",
       "      <td>HS-grad</td>\n",
       "      <td>9</td>\n",
       "      <td>Divorced</td>\n",
       "      <td>Handlers-cleaners</td>\n",
       "      <td>Not-in-family</td>\n",
       "      <td>White</td>\n",
       "      <td>Male</td>\n",
       "      <td>0</td>\n",
       "      <td>0</td>\n",
       "      <td>40</td>\n",
       "      <td>United-States</td>\n",
       "      <td>&lt;=50K</td>\n",
       "    </tr>\n",
       "    <tr>\n",
       "      <th>3</th>\n",
       "      <td>53</td>\n",
       "      <td>Private</td>\n",
       "      <td>234721</td>\n",
       "      <td>11th</td>\n",
       "      <td>7</td>\n",
       "      <td>Married-civ-spouse</td>\n",
       "      <td>Handlers-cleaners</td>\n",
       "      <td>Husband</td>\n",
       "      <td>Black</td>\n",
       "      <td>Male</td>\n",
       "      <td>0</td>\n",
       "      <td>0</td>\n",
       "      <td>40</td>\n",
       "      <td>United-States</td>\n",
       "      <td>&lt;=50K</td>\n",
       "    </tr>\n",
       "    <tr>\n",
       "      <th>4</th>\n",
       "      <td>28</td>\n",
       "      <td>Private</td>\n",
       "      <td>338409</td>\n",
       "      <td>Bachelors</td>\n",
       "      <td>13</td>\n",
       "      <td>Married-civ-spouse</td>\n",
       "      <td>Prof-specialty</td>\n",
       "      <td>Wife</td>\n",
       "      <td>Black</td>\n",
       "      <td>Female</td>\n",
       "      <td>0</td>\n",
       "      <td>0</td>\n",
       "      <td>40</td>\n",
       "      <td>Cuba</td>\n",
       "      <td>&lt;=50K</td>\n",
       "    </tr>\n",
       "  </tbody>\n",
       "</table>\n",
       "</div>"
      ],
      "text/plain": [
       "   age         workclass  fnlwgt  education  education-num  \\\n",
       "0   39         State-gov   77516  Bachelors             13   \n",
       "1   50  Self-emp-not-inc   83311  Bachelors             13   \n",
       "2   38           Private  215646    HS-grad              9   \n",
       "3   53           Private  234721       11th              7   \n",
       "4   28           Private  338409  Bachelors             13   \n",
       "\n",
       "       marital-status         occupation   relationship   race     sex  \\\n",
       "0       Never-married       Adm-clerical  Not-in-family  White    Male   \n",
       "1  Married-civ-spouse    Exec-managerial        Husband  White    Male   \n",
       "2            Divorced  Handlers-cleaners  Not-in-family  White    Male   \n",
       "3  Married-civ-spouse  Handlers-cleaners        Husband  Black    Male   \n",
       "4  Married-civ-spouse     Prof-specialty           Wife  Black  Female   \n",
       "\n",
       "   capital-gain  capital-loss  hours-per-week native-country salary  \n",
       "0          2174             0              40  United-States  <=50K  \n",
       "1             0             0              13  United-States  <=50K  \n",
       "2             0             0              40  United-States  <=50K  \n",
       "3             0             0              40  United-States  <=50K  \n",
       "4             0             0              40           Cuba  <=50K  "
      ]
     },
     "execution_count": 2,
     "metadata": {},
     "output_type": "execute_result"
    }
   ],
   "source": [
    "df = pd.read_csv('adult.data.csv')\n",
    "df.head()"
   ]
  },
  {
   "cell_type": "code",
   "execution_count": 3,
   "metadata": {},
   "outputs": [
    {
     "name": "stdout",
     "output_type": "stream",
     "text": [
      "<class 'pandas.core.frame.DataFrame'>\n",
      "RangeIndex: 32561 entries, 0 to 32560\n",
      "Data columns (total 15 columns):\n",
      " #   Column          Non-Null Count  Dtype \n",
      "---  ------          --------------  ----- \n",
      " 0   age             32561 non-null  int64 \n",
      " 1   workclass       32561 non-null  object\n",
      " 2   fnlwgt          32561 non-null  int64 \n",
      " 3   education       32561 non-null  object\n",
      " 4   education-num   32561 non-null  int64 \n",
      " 5   marital-status  32561 non-null  object\n",
      " 6   occupation      32561 non-null  object\n",
      " 7   relationship    32561 non-null  object\n",
      " 8   race            32561 non-null  object\n",
      " 9   sex             32561 non-null  object\n",
      " 10  capital-gain    32561 non-null  int64 \n",
      " 11  capital-loss    32561 non-null  int64 \n",
      " 12  hours-per-week  32561 non-null  int64 \n",
      " 13  native-country  32561 non-null  object\n",
      " 14  salary          32561 non-null  object\n",
      "dtypes: int64(6), object(9)\n",
      "memory usage: 3.7+ MB\n"
     ]
    }
   ],
   "source": [
    "df.info()"
   ]
  },
  {
   "cell_type": "code",
   "execution_count": 4,
   "metadata": {},
   "outputs": [
    {
     "data": {
      "text/plain": [
       "age               0\n",
       "workclass         0\n",
       "fnlwgt            0\n",
       "education         0\n",
       "education-num     0\n",
       "marital-status    0\n",
       "occupation        0\n",
       "relationship      0\n",
       "race              0\n",
       "sex               0\n",
       "capital-gain      0\n",
       "capital-loss      0\n",
       "hours-per-week    0\n",
       "native-country    0\n",
       "salary            0\n",
       "dtype: int64"
      ]
     },
     "execution_count": 4,
     "metadata": {},
     "output_type": "execute_result"
    }
   ],
   "source": [
    "df.isnull().sum()"
   ]
  },
  {
   "cell_type": "markdown",
   "metadata": {},
   "source": [
    "### How many of each race are represented in this dataset? This should be a Pandas series with race names as the index labels.\n",
    "\n"
   ]
  },
  {
   "cell_type": "code",
   "execution_count": 5,
   "metadata": {},
   "outputs": [
    {
     "data": {
      "text/plain": [
       "White                 27816\n",
       "Black                  3124\n",
       "Asian-Pac-Islander     1039\n",
       "Amer-Indian-Eskimo      311\n",
       "Other                   271\n",
       "Name: race, dtype: int64"
      ]
     },
     "execution_count": 5,
     "metadata": {},
     "output_type": "execute_result"
    }
   ],
   "source": [
    "race_count = df['race'].value_counts()\n",
    "race_count"
   ]
  },
  {
   "cell_type": "markdown",
   "metadata": {},
   "source": [
    "##### What is the average age of men?"
   ]
  },
  {
   "cell_type": "code",
   "execution_count": 73,
   "metadata": {},
   "outputs": [
    {
     "data": {
      "text/plain": [
       "39.43"
      ]
     },
     "execution_count": 73,
     "metadata": {},
     "output_type": "execute_result"
    }
   ],
   "source": [
    "average_age_men = round((df[df['sex'] == 'Male']).age.mean(),2)\n",
    "average_age_men"
   ]
  },
  {
   "cell_type": "markdown",
   "metadata": {},
   "source": [
    " #####  What is the percentage of people who have a Bachelor's degree?"
   ]
  },
  {
   "cell_type": "code",
   "execution_count": 75,
   "metadata": {},
   "outputs": [
    {
     "data": {
      "text/plain": [
       "16.45"
      ]
     },
     "execution_count": 75,
     "metadata": {},
     "output_type": "execute_result"
    }
   ],
   "source": [
    "percentage_bachelors = round(100*(len(df[df['education'] == 'Bachelors'])/len(df)),2)\n",
    "percentage_bachelors"
   ]
  },
  {
   "cell_type": "markdown",
   "metadata": {},
   "source": [
    "#### What percentage of people with advanced education (`Bachelors`, `Masters`, or `Doctorate`) make more than 50K?\n",
    " \n"
   ]
  },
  {
   "cell_type": "markdown",
   "metadata": {},
   "source": [
    "##### What percentage of people without advanced education make more than 50K (with and without `Bachelors`, `Masters`, or `Doctorate` percentage with salary >50K)\n",
    "\n"
   ]
  },
  {
   "cell_type": "code",
   "execution_count": 20,
   "metadata": {},
   "outputs": [
    {
     "name": "stdout",
     "output_type": "stream",
     "text": [
      "       age         workclass  fnlwgt  education  education-num  \\\n",
      "0       39         State-gov   77516  Bachelors             13   \n",
      "1       50  Self-emp-not-inc   83311  Bachelors             13   \n",
      "4       28           Private  338409  Bachelors             13   \n",
      "5       37           Private  284582    Masters             14   \n",
      "8       31           Private   45781    Masters             14   \n",
      "...    ...               ...     ...        ...            ...   \n",
      "32538   38           Private  139180  Bachelors             13   \n",
      "32539   71                 ?  287372  Doctorate             16   \n",
      "32544   31           Private  199655    Masters             14   \n",
      "32553   32           Private  116138    Masters             14   \n",
      "32554   53           Private  321865    Masters             14   \n",
      "\n",
      "           marital-status       occupation   relationship                race  \\\n",
      "0           Never-married     Adm-clerical  Not-in-family               White   \n",
      "1      Married-civ-spouse  Exec-managerial        Husband               White   \n",
      "4      Married-civ-spouse   Prof-specialty           Wife               Black   \n",
      "5      Married-civ-spouse  Exec-managerial           Wife               White   \n",
      "8           Never-married   Prof-specialty  Not-in-family               White   \n",
      "...                   ...              ...            ...                 ...   \n",
      "32538            Divorced   Prof-specialty      Unmarried               Black   \n",
      "32539  Married-civ-spouse                ?        Husband               White   \n",
      "32544            Divorced    Other-service  Not-in-family               Other   \n",
      "32553       Never-married     Tech-support  Not-in-family  Asian-Pac-Islander   \n",
      "32554  Married-civ-spouse  Exec-managerial        Husband               White   \n",
      "\n",
      "          sex  capital-gain  capital-loss  hours-per-week native-country  \\\n",
      "0        Male          2174             0              40  United-States   \n",
      "1        Male             0             0              13  United-States   \n",
      "4      Female             0             0              40           Cuba   \n",
      "5      Female             0             0              40  United-States   \n",
      "8      Female         14084             0              50  United-States   \n",
      "...       ...           ...           ...             ...            ...   \n",
      "32538  Female         15020             0              45  United-States   \n",
      "32539    Male             0             0              10  United-States   \n",
      "32544  Female             0             0              30  United-States   \n",
      "32553    Male             0             0              11         Taiwan   \n",
      "32554    Male             0             0              40  United-States   \n",
      "\n",
      "      salary  \n",
      "0      <=50K  \n",
      "1      <=50K  \n",
      "4      <=50K  \n",
      "5      <=50K  \n",
      "8       >50K  \n",
      "...      ...  \n",
      "32538   >50K  \n",
      "32539   >50K  \n",
      "32544  <=50K  \n",
      "32553  <=50K  \n",
      "32554   >50K  \n",
      "\n",
      "[7491 rows x 15 columns]\n"
     ]
    }
   ],
   "source": [
    "higher_education = df[df['education'].isin(['Bachelors','Masters','Doctorate'])]\n",
    "print(higher_education)"
   ]
  },
  {
   "cell_type": "code",
   "execution_count": 21,
   "metadata": {},
   "outputs": [
    {
     "name": "stdout",
     "output_type": "stream",
     "text": [
      "       age         workclass  fnlwgt     education  education-num  \\\n",
      "2       38           Private  215646       HS-grad              9   \n",
      "3       53           Private  234721          11th              7   \n",
      "6       49           Private  160187           9th              5   \n",
      "7       52  Self-emp-not-inc  209642       HS-grad              9   \n",
      "10      37           Private  280464  Some-college             10   \n",
      "...    ...               ...     ...           ...            ...   \n",
      "32556   27           Private  257302    Assoc-acdm             12   \n",
      "32557   40           Private  154374       HS-grad              9   \n",
      "32558   58           Private  151910       HS-grad              9   \n",
      "32559   22           Private  201490       HS-grad              9   \n",
      "32560   52      Self-emp-inc  287927       HS-grad              9   \n",
      "\n",
      "              marital-status         occupation   relationship   race     sex  \\\n",
      "2                   Divorced  Handlers-cleaners  Not-in-family  White    Male   \n",
      "3         Married-civ-spouse  Handlers-cleaners        Husband  Black    Male   \n",
      "6      Married-spouse-absent      Other-service  Not-in-family  Black  Female   \n",
      "7         Married-civ-spouse    Exec-managerial        Husband  White    Male   \n",
      "10        Married-civ-spouse    Exec-managerial        Husband  Black    Male   \n",
      "...                      ...                ...            ...    ...     ...   \n",
      "32556     Married-civ-spouse       Tech-support           Wife  White  Female   \n",
      "32557     Married-civ-spouse  Machine-op-inspct        Husband  White    Male   \n",
      "32558                Widowed       Adm-clerical      Unmarried  White  Female   \n",
      "32559          Never-married       Adm-clerical      Own-child  White    Male   \n",
      "32560     Married-civ-spouse    Exec-managerial           Wife  White  Female   \n",
      "\n",
      "       capital-gain  capital-loss  hours-per-week native-country salary  \n",
      "2                 0             0              40  United-States  <=50K  \n",
      "3                 0             0              40  United-States  <=50K  \n",
      "6                 0             0              16        Jamaica  <=50K  \n",
      "7                 0             0              45  United-States   >50K  \n",
      "10                0             0              80  United-States   >50K  \n",
      "...             ...           ...             ...            ...    ...  \n",
      "32556             0             0              38  United-States  <=50K  \n",
      "32557             0             0              40  United-States   >50K  \n",
      "32558             0             0              40  United-States  <=50K  \n",
      "32559             0             0              20  United-States  <=50K  \n",
      "32560         15024             0              40  United-States   >50K  \n",
      "\n",
      "[25070 rows x 15 columns]\n"
     ]
    }
   ],
   "source": [
    "lower_education = df[~df['education'].isin(['Bachelors','Masters','Doctorate'])]\n",
    "print(lower_education)"
   ]
  },
  {
   "cell_type": "code",
   "execution_count": 26,
   "metadata": {},
   "outputs": [
    {
     "data": {
      "text/plain": [
       "(46.54, 17.37)"
      ]
     },
     "execution_count": 26,
     "metadata": {},
     "output_type": "execute_result"
    }
   ],
   "source": [
    "higher_education_high = round(100*(len(higher_education[higher_education['salary'] == '>50K'])/len(higher_education)),2)\n",
    "lower_education_high = round(100*(len(lower_education[lower_education['salary'] == '>50K'])/len(lower_education)),2)\n",
    "\n",
    "higher_education_high,lower_education_high"
   ]
  },
  {
   "cell_type": "markdown",
   "metadata": {},
   "source": [
    "#### What is the minimum number of hours a person works per week (hours-per-week feature)?\n",
    " \n"
   ]
  },
  {
   "cell_type": "code",
   "execution_count": 27,
   "metadata": {},
   "outputs": [
    {
     "data": {
      "text/plain": [
       "1"
      ]
     },
     "execution_count": 27,
     "metadata": {},
     "output_type": "execute_result"
    }
   ],
   "source": [
    "min_work_hours = df['hours-per-week'].min()\n",
    "min_work_hours"
   ]
  },
  {
   "cell_type": "markdown",
   "metadata": {},
   "source": [
    "#### What percentage of the people who work the minimum number of hours per week have a salary of >50K\n",
    "\n",
    "\n"
   ]
  },
  {
   "cell_type": "code",
   "execution_count": 28,
   "metadata": {},
   "outputs": [
    {
     "data": {
      "text/plain": [
       "10.0"
      ]
     },
     "execution_count": 28,
     "metadata": {},
     "output_type": "execute_result"
    }
   ],
   "source": [
    "min_wage_workers = (df['hours-per-week'] == min_work_hours).sum()\n",
    "rich_percentage =  round((((df['hours-per-week'] == min_work_hours) & (df['salary'] == '>50K')).sum() / min_wage_workers) * 100, 1)\n",
    "\n",
    "rich_percentage"
   ]
  },
  {
   "cell_type": "markdown",
   "metadata": {},
   "source": [
    "#### What country has the highest percentage of people that earn >50K?\n",
    "\n",
    "\n"
   ]
  },
  {
   "cell_type": "code",
   "execution_count": 37,
   "metadata": {},
   "outputs": [
    {
     "data": {
      "text/plain": [
       "41.9"
      ]
     },
     "execution_count": 37,
     "metadata": {},
     "output_type": "execute_result"
    }
   ],
   "source": [
    "country_counts = df['native-country'].value_counts()\n",
    "country_high = df[df['salary'] == '>50K']['native-country'].value_counts()\n",
    "country_ratio = country_high/country_counts\n",
    "highest_earning_country = country_ratio[country_ratio.values == country_ratio.max()].index[0]\n",
    "highest_earning_country_percentage = round(100*country_ratio.max(),1)\n",
    "highest_earning_country_percentage"
   ]
  },
  {
   "cell_type": "markdown",
   "metadata": {},
   "source": [
    "#### Identify the most popular occupation for those who earn >50K in India."
   ]
  },
  {
   "cell_type": "code",
   "execution_count": 70,
   "metadata": {},
   "outputs": [
    {
     "data": {
      "text/plain": [
       "'Prof-specialty'"
      ]
     },
     "execution_count": 70,
     "metadata": {},
     "output_type": "execute_result"
    }
   ],
   "source": [
    "india_pop = df[df['native-country'] == 'India']\n",
    "high_pop = india_pop[india_pop['salary'] == '>50K']\n",
    "top_IN_occupation = high_pop['occupation'].values[0]\n",
    "top_IN_occupation\n",
    "\n",
    "# top_IN_occupation = df.loc[(df['native-country'] == 'India') & (df['salary'] == '>50K'), 'occupation'].value_counts().index[0]\n",
    "# top_IN_occupation"
   ]
  },
  {
   "cell_type": "code",
   "execution_count": 77,
   "metadata": {},
   "outputs": [
    {
     "name": "stdout",
     "output_type": "stream",
     "text": [
      "Number of each race:\n",
      " White                 27816\n",
      "Black                  3124\n",
      "Asian-Pac-Islander     1039\n",
      "Amer-Indian-Eskimo      311\n",
      "Other                   271\n",
      "Name: race, dtype: int64\n",
      "Average age of men: 39.43\n",
      "Percentage with Bachelors degrees: 16.45%\n",
      "-----------------------------------------------------\n",
      "Percentage with higher education that earn >50K: 46.5%\n",
      "Percentage without higher education that earn >50K: 17.4%\n",
      "Min work time: 1 hours/week\n",
      "Percentage of rich among those who work fewest hours: 10.0%\n",
      "Country with highest percentage of rich: Iran\n",
      "Highest percentage of rich people in country: 41.9%\n",
      "Top occupations in India: Prof-specialty\n"
     ]
    }
   ],
   "source": [
    "print(\"Number of each race:\\n\", race_count) \n",
    "print(\"Average age of men:\", average_age_men)\n",
    "print(f\"Percentage with Bachelors degrees: {percentage_bachelors}%\")\n",
    "print('-----------------------------------------------------')\n",
    "print(f\"Percentage with higher education that earn >50K: {higher_education_rich}%\")\n",
    "print(f\"Percentage without higher education that earn >50K: {lower_education_rich}%\")\n",
    "print(f\"Min work time: {min_work_hours} hours/week\")\n",
    "print(f\"Percentage of rich among those who work fewest hours: {rich_percentage}%\")\n",
    "print(\"Country with highest percentage of rich:\", highest_earning_country)\n",
    "print(f\"Highest percentage of rich people in country: {highest_earning_country_percentage}%\")\n",
    "print(\"Top occupations in India:\", top_IN_occupation)"
   ]
  }
 ],
 "metadata": {
  "interpreter": {
   "hash": "b3b79206c9f4ebb7bb7eaac1e3eb649bbb2fb04c4cc603ffa577b414976135e9"
  },
  "kernelspec": {
   "display_name": "Python 3.9.7 ('base')",
   "language": "python",
   "name": "python3"
  },
  "language_info": {
   "codemirror_mode": {
    "name": "ipython",
    "version": 3
   },
   "file_extension": ".py",
   "mimetype": "text/x-python",
   "name": "python",
   "nbconvert_exporter": "python",
   "pygments_lexer": "ipython3",
   "version": "3.9.7"
  },
  "orig_nbformat": 4
 },
 "nbformat": 4,
 "nbformat_minor": 2
}
