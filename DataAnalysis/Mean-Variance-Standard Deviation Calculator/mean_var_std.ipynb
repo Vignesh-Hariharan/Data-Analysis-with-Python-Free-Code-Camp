{
 "cells": [
  {
   "cell_type": "code",
   "execution_count": 17,
   "metadata": {},
   "outputs": [],
   "source": [
    "import numpy as np"
   ]
  },
  {
   "cell_type": "code",
   "execution_count": 32,
   "metadata": {},
   "outputs": [
    {
     "data": {
      "text/plain": [
       "array([[2, 3, 4],\n",
       "       [6, 2, 4],\n",
       "       [8, 2, 1]])"
      ]
     },
     "execution_count": 32,
     "metadata": {},
     "output_type": "execute_result"
    }
   ],
   "source": [
    "# a sample list\n",
    "list = [2,3,4,6,2,4,8,2,1]\n",
    "matrix = np.array(list).reshape(3,3)\n",
    "matrix"
   ]
  },
  {
   "cell_type": "markdown",
   "metadata": {},
   "source": [
    "#### Mean Calculation"
   ]
  },
  {
   "cell_type": "code",
   "execution_count": 19,
   "metadata": {},
   "outputs": [
    {
     "data": {
      "text/plain": [
       "([5.333333333333333, 2.3333333333333335, 3.0],\n",
       " [3.0, 4.0, 3.6666666666666665],\n",
       " 3.5555555555555554)"
      ]
     },
     "execution_count": 19,
     "metadata": {},
     "output_type": "execute_result"
    }
   ],
   "source": [
    "#mean - axis1\n",
    "\n",
    "mean_axis1 = matrix.mean(axis=0).tolist()\n",
    "\n",
    "#mean - axis2\n",
    "\n",
    "mean_axis2 = matrix.mean(axis=1).tolist()\n",
    "\n",
    "#mean\n",
    "\n",
    "mean_flattened = matrix.mean().tolist()\n",
    "\n",
    "mean_axis1,mean_axis2,mean_flattened"
   ]
  },
  {
   "cell_type": "markdown",
   "metadata": {},
   "source": [
    "#### Variance Calculation"
   ]
  },
  {
   "cell_type": "code",
   "execution_count": 20,
   "metadata": {},
   "outputs": [
    {
     "data": {
      "text/plain": [
       "([6.222222222222221, 0.22222222222222224, 2.0],\n",
       " [0.6666666666666666, 2.6666666666666665, 9.555555555555557],\n",
       " 4.469135802469136)"
      ]
     },
     "execution_count": 20,
     "metadata": {},
     "output_type": "execute_result"
    }
   ],
   "source": [
    "#var - axis1\n",
    "\n",
    "var_axis1 = matrix.var(axis=0).tolist()\n",
    "\n",
    "#var - axis2\n",
    "\n",
    "var_axis2 = matrix.var(axis=1).tolist()\n",
    "\n",
    "#var\n",
    "\n",
    "var_flattened = matrix.var().tolist()\n",
    "\n",
    "var_axis1,var_axis2,var_flattened"
   ]
  },
  {
   "cell_type": "markdown",
   "metadata": {},
   "source": [
    "#### Standard Deviation Calculations"
   ]
  },
  {
   "cell_type": "code",
   "execution_count": 21,
   "metadata": {},
   "outputs": [
    {
     "data": {
      "text/plain": [
       "([2.494438257849294, 0.4714045207910317, 1.4142135623730951],\n",
       " [0.816496580927726, 1.632993161855452, 3.091206165165235],\n",
       " 2.1140330656044943)"
      ]
     },
     "execution_count": 21,
     "metadata": {},
     "output_type": "execute_result"
    }
   ],
   "source": [
    "#std - axis1\n",
    "\n",
    "std_axis1 = matrix.std(axis=0).tolist()\n",
    "\n",
    "#std - axis2\n",
    "\n",
    "std_axis2 = matrix.std(axis=1).tolist()\n",
    "\n",
    "#std\n",
    "\n",
    "std_flattened = matrix.std().tolist()\n",
    "\n",
    "std_axis1,std_axis2,std_flattened"
   ]
  },
  {
   "cell_type": "markdown",
   "metadata": {},
   "source": [
    "#### Maximum Value"
   ]
  },
  {
   "cell_type": "code",
   "execution_count": 22,
   "metadata": {},
   "outputs": [
    {
     "data": {
      "text/plain": [
       "([8, 3, 4], [4, 6, 8], 8)"
      ]
     },
     "execution_count": 22,
     "metadata": {},
     "output_type": "execute_result"
    }
   ],
   "source": [
    "#max - axis1\n",
    "\n",
    "max_axis1 = matrix.max(axis=0).tolist()\n",
    "\n",
    "#max - axis2\n",
    "\n",
    "max_axis2 = matrix.max(axis=1).tolist()\n",
    "\n",
    "#max\n",
    "\n",
    "max_flattened = matrix.max().tolist()\n",
    "\n",
    "max_axis1,max_axis2,max_flattened"
   ]
  },
  {
   "cell_type": "markdown",
   "metadata": {},
   "source": [
    "#### Minimum Value"
   ]
  },
  {
   "cell_type": "code",
   "execution_count": 23,
   "metadata": {},
   "outputs": [
    {
     "data": {
      "text/plain": [
       "([2, 2, 1], [2, 2, 1], 1)"
      ]
     },
     "execution_count": 23,
     "metadata": {},
     "output_type": "execute_result"
    }
   ],
   "source": [
    "#min - axis1\n",
    "\n",
    "min_axis1 = matrix.min(axis=0).tolist()\n",
    "\n",
    "#min - axis2\n",
    "\n",
    "min_axis2 = matrix.min(axis=1).tolist()\n",
    "\n",
    "#min\n",
    "\n",
    "min_flattened = matrix.min().tolist()\n",
    "\n",
    "min_axis1,min_axis2,min_flattened"
   ]
  },
  {
   "cell_type": "markdown",
   "metadata": {},
   "source": [
    "#### Sum Calculation"
   ]
  },
  {
   "cell_type": "code",
   "execution_count": 24,
   "metadata": {},
   "outputs": [
    {
     "data": {
      "text/plain": [
       "([16, 7, 9], [9, 12, 11], 32)"
      ]
     },
     "execution_count": 24,
     "metadata": {},
     "output_type": "execute_result"
    }
   ],
   "source": [
    "#sum - axis1\n",
    "\n",
    "sum_axis1 = matrix.sum(axis=0).tolist()\n",
    "\n",
    "#sum - axis2\n",
    "\n",
    "sum_axis2 = matrix.sum(axis=1).tolist()\n",
    "\n",
    "#sum\n",
    "\n",
    "sum_flattened = matrix.sum().tolist()\n",
    "\n",
    "sum_axis1,sum_axis2,sum_flattened"
   ]
  },
  {
   "cell_type": "markdown",
   "metadata": {},
   "source": [
    "#### Putting all calculations together"
   ]
  },
  {
   "cell_type": "code",
   "execution_count": 31,
   "metadata": {},
   "outputs": [],
   "source": [
    "\n",
    "if len(list) == 9:\n",
    "    calculations = {\n",
    "    'mean': [mean_axis1, mean_axis2, mean_flattened],\n",
    "    'variance': [var_axis1,var_axis2, var_flattened],\n",
    "    'standard deviation': [std_axis1,std_axis2,std_flattened],\n",
    "    'max': [max_axis1,max_axis2,max_flattened],\n",
    "    'min': [min_axis1,min_axis2,min_flattened],\n",
    "    'sum': [sum_axis1,sum_axis2,sum_flattened] }\n",
    "        \n",
    "else:\n",
    "    raise ValueError(\"List must contain nine numbers.\")\n",
    "\n",
    "\n"
   ]
  }
 ],
 "metadata": {
  "interpreter": {
   "hash": "b3b79206c9f4ebb7bb7eaac1e3eb649bbb2fb04c4cc603ffa577b414976135e9"
  },
  "kernelspec": {
   "display_name": "Python 3.9.7 ('base')",
   "language": "python",
   "name": "python3"
  },
  "language_info": {
   "codemirror_mode": {
    "name": "ipython",
    "version": 3
   },
   "file_extension": ".py",
   "mimetype": "text/x-python",
   "name": "python",
   "nbconvert_exporter": "python",
   "pygments_lexer": "ipython3",
   "version": "3.9.7"
  },
  "orig_nbformat": 4
 },
 "nbformat": 4,
 "nbformat_minor": 2
}
